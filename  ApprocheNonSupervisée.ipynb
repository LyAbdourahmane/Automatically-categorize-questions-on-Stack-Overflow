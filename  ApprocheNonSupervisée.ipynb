{
 "cells": [
  {
   "cell_type": "markdown",
   "id": "81321db8-e08a-477d-9534-129728a3661c",
   "metadata": {},
   "source": [
    "# Étape 3 : Approche non supervisée\n",
    "- Objectifs :\n",
    "    - • Proposer une solution unsupervised de suggestion de mots-clés/tags\n",
    "- Sous-tâches :\n",
    "    1. Extraction de features textuelles (TF-IDF, embeddings simples…)\n",
    "    2. Clustering (KMeans, DBSCAN…) + analyse de cluster\n",
    "    3. Déduction de tags par cluster (mots les plus représentatifs ? Co-occurrence ?)\n",
    "    4. Évaluation avec un indicateur adapté (taux de couverture par exemple)"
   ]
  },
  {
   "cell_type": "code",
   "execution_count": 1,
   "id": "a56a458d-d58d-465d-9e2d-01ace1131e33",
   "metadata": {},
   "outputs": [],
   "source": [
    "import pandas as pd\n",
    "import numpy as np\n",
    "\n",
    "import matplotlib.pyplot as plt\n",
    "import seaborn as sns\n",
    "\n",
    "from sklearn.feature_extraction.text import TfidfVectorizer, CountVectorizer\n",
    "from sklearn.preprocessing import MultiLabelBinarizer\n",
    "from sklearn.model_selection import train_test_split\n",
    "\n",
    "from sklearn.cluster import KMeans\n",
    "from hdbscan import HDBSCAN\n",
    "from yellowbrick.cluster import KElbowVisualizer"
   ]
  },
  {
   "cell_type": "code",
   "execution_count": 3,
   "id": "5f952c57-f345-4960-b2b4-c18032814f62",
   "metadata": {},
   "outputs": [
    {
     "data": {
      "text/html": [
       "<div>\n",
       "<style scoped>\n",
       "    .dataframe tbody tr th:only-of-type {\n",
       "        vertical-align: middle;\n",
       "    }\n",
       "\n",
       "    .dataframe tbody tr th {\n",
       "        vertical-align: top;\n",
       "    }\n",
       "\n",
       "    .dataframe thead th {\n",
       "        text-align: right;\n",
       "    }\n",
       "</style>\n",
       "<table border=\"1\" class=\"dataframe\">\n",
       "  <thead>\n",
       "    <tr style=\"text-align: right;\">\n",
       "      <th></th>\n",
       "      <th>Title</th>\n",
       "      <th>Body</th>\n",
       "      <th>Tags</th>\n",
       "      <th>text</th>\n",
       "      <th>text_clean</th>\n",
       "    </tr>\n",
       "  </thead>\n",
       "  <tbody>\n",
       "    <tr>\n",
       "      <th>0</th>\n",
       "      <td>How to convert Decimal to Double in C#?</td>\n",
       "      <td>I want to assign the decimal variable trans to...</td>\n",
       "      <td>['c#']</td>\n",
       "      <td>How to convert Decimal to Double in C#? I want...</td>\n",
       "      <td>convert c# variable this.opacity trackbar1.val...</td>\n",
       "    </tr>\n",
       "    <tr>\n",
       "      <th>1</th>\n",
       "      <td>Calculate relative time in C#</td>\n",
       "      <td>Given a specific DateTime value, how do I disp...</td>\n",
       "      <td>['c#', 'datetime']</td>\n",
       "      <td>Calculate relative time in C# Given a specific...</td>\n",
       "      <td>calculate relative c# specific datetime</td>\n",
       "    </tr>\n",
       "    <tr>\n",
       "      <th>2</th>\n",
       "      <td>Determine a user's timezone</td>\n",
       "      <td>Is there a standard way for a web server to be...</td>\n",
       "      <td>['html', 'browser']</td>\n",
       "      <td>Determine a user's timezone Is there a standar...</td>\n",
       "      <td>determine standard http string</td>\n",
       "    </tr>\n",
       "  </tbody>\n",
       "</table>\n",
       "</div>"
      ],
      "text/plain": [
       "                                     Title  \\\n",
       "0  How to convert Decimal to Double in C#?   \n",
       "1            Calculate relative time in C#   \n",
       "2              Determine a user's timezone   \n",
       "\n",
       "                                                Body                 Tags  \\\n",
       "0  I want to assign the decimal variable trans to...               ['c#']   \n",
       "1  Given a specific DateTime value, how do I disp...   ['c#', 'datetime']   \n",
       "2  Is there a standard way for a web server to be...  ['html', 'browser']   \n",
       "\n",
       "                                                text  \\\n",
       "0  How to convert Decimal to Double in C#? I want...   \n",
       "1  Calculate relative time in C# Given a specific...   \n",
       "2  Determine a user's timezone Is there a standar...   \n",
       "\n",
       "                                          text_clean  \n",
       "0  convert c# variable this.opacity trackbar1.val...  \n",
       "1            calculate relative c# specific datetime  \n",
       "2                     determine standard http string  "
      ]
     },
     "execution_count": 3,
     "metadata": {},
     "output_type": "execute_result"
    }
   ],
   "source": [
    "df = pd.read_csv('données_propre/donnees_propre.csv')\n",
    "df.head(3)"
   ]
  },
  {
   "cell_type": "code",
   "execution_count": 7,
   "id": "f1de7ee8-9e36-4651-b902-ecd669f46126",
   "metadata": {},
   "outputs": [],
   "source": [
    "# Pour un problème de RAM diminuons la quantité de nos données\n",
    "# Filtrer les tags trop rares (moins de 2 occurrences)\n",
    "df.dropna(inplace=True)\n",
    "tag_counts = df['Tags'].value_counts()\n",
    "common_tags = tag_counts[tag_counts >= 2].index\n",
    "df_filtered = df[df['Tags'].isin(common_tags)]\n",
    "\n",
    "# Échantillonnage stratifié après nettoyage\n",
    "df_final, _ = train_test_split(\n",
    "    df_filtered, train_size=5000, stratify=df_filtered['Tags'], random_state=42\n",
    ")\n",
    "\n",
    "# df_final.to_csv(\"données_propre/dataset_final.csv\", index=False)"
   ]
  },
  {
   "cell_type": "code",
   "execution_count": 15,
   "id": "92f1cba7-d887-4fc4-b8df-094f324ab0e7",
   "metadata": {},
   "outputs": [
    {
     "data": {
      "text/html": [
       "<div>\n",
       "<style scoped>\n",
       "    .dataframe tbody tr th:only-of-type {\n",
       "        vertical-align: middle;\n",
       "    }\n",
       "\n",
       "    .dataframe tbody tr th {\n",
       "        vertical-align: top;\n",
       "    }\n",
       "\n",
       "    .dataframe thead th {\n",
       "        text-align: right;\n",
       "    }\n",
       "</style>\n",
       "<table border=\"1\" class=\"dataframe\">\n",
       "  <thead>\n",
       "    <tr style=\"text-align: right;\">\n",
       "      <th></th>\n",
       "      <th>text_clean</th>\n",
       "      <th>Tags</th>\n",
       "    </tr>\n",
       "  </thead>\n",
       "  <tbody>\n",
       "    <tr>\n",
       "      <th>30592</th>\n",
       "      <td>content ajax completely inside jquery function...</td>\n",
       "      <td>['javascript', 'jquery', 'ajax']</td>\n",
       "    </tr>\n",
       "    <tr>\n",
       "      <th>27946</th>\n",
       "      <td>externalize spring messagesource outside suppo...</td>\n",
       "      <td>['spring']</td>\n",
       "    </tr>\n",
       "    <tr>\n",
       "      <th>32497</th>\n",
       "      <td>modify c program accumulate function</td>\n",
       "      <td>['c', 'linux']</td>\n",
       "    </tr>\n",
       "  </tbody>\n",
       "</table>\n",
       "</div>"
      ],
      "text/plain": [
       "                                              text_clean  \\\n",
       "30592  content ajax completely inside jquery function...   \n",
       "27946  externalize spring messagesource outside suppo...   \n",
       "32497               modify c program accumulate function   \n",
       "\n",
       "                                   Tags  \n",
       "30592  ['javascript', 'jquery', 'ajax']  \n",
       "27946                        ['spring']  \n",
       "32497                    ['c', 'linux']  "
      ]
     },
     "execution_count": 15,
     "metadata": {},
     "output_type": "execute_result"
    }
   ],
   "source": [
    "df = df_final[['text_clean', 'Tags']].dropna()\n",
    "df.head(3)"
   ]
  },
  {
   "cell_type": "code",
   "execution_count": 17,
   "id": "05c3bab5-2d44-47fb-8879-74f0f5a1f1c2",
   "metadata": {},
   "outputs": [
    {
     "name": "stdout",
     "output_type": "stream",
     "text": [
      "Le nombre total de tags différents 43\n"
     ]
    }
   ],
   "source": [
    "mlb = MultiLabelBinarizer()\n",
    "mlb.fit_transform(df[\"Tags\"])\n",
    "print('Le nombre total de tags différents',len(mlb.classes_))"
   ]
  },
  {
   "cell_type": "code",
   "execution_count": 25,
   "id": "87567a0f-8813-4581-a6db-d10a6d607f05",
   "metadata": {},
   "outputs": [],
   "source": [
    "# Les librairie de transformations de nos données\n",
    "from sentence_transformers import SentenceTransformer\n",
    "import tensorflow_hub as hub\n",
    "#from gensim.models.doc2vec import Doc2Vec, TaggedDocument"
   ]
  },
  {
   "cell_type": "code",
   "execution_count": 29,
   "id": "501c044d-6cb1-4482-95b6-90a6eaa7bf95",
   "metadata": {},
   "outputs": [],
   "source": [
    "# !!NOTE: Quand je vectoriserais avec TF-IDF ou CountVectorizer, je peux utilisé les paramètres :\n",
    "# min_df=5 : on garde uniquement les mots (tokens) qui apparaissent au moins dans 5 documents.\n",
    "# max_df=0.8 : on enlève les mots qui apparaissent dans plus de 80% des documents (très fréquents donc peu discriminants, comme \"use\", \"data\", etc.).\n",
    "\"\"\"Pour ton projet de suggestion de tags par clustering, où il est essentiel de capturer le contexte global d'une question\n",
    ", Doc2Vec offre un bon compromis en fournissant des représentations directement exploitables. \n",
    "Cependant, si tu disposes d'un corpus conséquent et préfères partir sur des solutions pré-entraînées avec des modèles très robustes,\n",
    "tu pourrais aussi opter pour Word2Vec ou GloVe associés à une bonne stratégie d'agrégation.\n",
    "\"\"\"\n",
    "\n",
    "def BOW_embeddings(tf, ct, data):\n",
    "    if tf:\n",
    "        vectorizer = TfidfVectorizer(min_df=2, max_df=0.9)\n",
    "    elif ct:\n",
    "        vectorizer = CountVectorizer(min_df=2, max_df=0.9)\n",
    "    else:\n",
    "        raise ValueError(\"Spécifié si tf=True ou ct=True\")\n",
    "    X = vectorizer.fit_transform(data)\n",
    "    print(f\"Shape des features BOW: {X.shape}\")\n",
    "    return X\n",
    "\n",
    "# Charger le modèle USE depuis TensorFlow Hub\n",
    "use_model = hub.load(\"https://tfhub.dev/google/universal-sentence-encoder/4\")\n",
    "def use_embeddings(text):\n",
    "    # Extraire la colonne texte et générer les embeddings\n",
    "    embeddings = use_model(text)  # Renvoie un tenseur\n",
    "    print(\"Shape des embeddings USE :\", (embeddings.numpy()).shape)\n",
    "    return embeddings.numpy()  # Conversion en numpy array\n",
    "\n",
    "\n",
    "# Chargement du modèle BERT (adapté pour les embeddings de phrases)\n",
    "# bert_model = SentenceTransformer('all-MiniLM-L6-v2')\n",
    "def bert_embeddings(text):\n",
    "    \"\"\"\n",
    "    Encode une liste de textes en vecteurs avec BERT.\n",
    "\n",
    "    :param texts: Liste de phrases\n",
    "    :return: Array NumPy shape (n_samples, 384)\n",
    "    \"\"\"\n",
    "    embeddings = bert_model.encode(text, convert_to_numpy=True)\n",
    "    print(\"Shape des embeddings BERT :\", (embeddings).shape)\n",
    "    return embeddings\n",
    "\n",
    "\n",
    "\n",
    "\"\"\"# Initialisation du modèle Doc2Vec\n",
    "doc2vec_model = Doc2Vec(vector_size=200, min_count=2, workers=4, epochs=20)\n",
    "\n",
    "def doc2vec_embeddings(texts):\n",
    "    '''\n",
    "    Renvoie les embeddings des documents à l'aide de Doc2Vec.\n",
    "    Paramètre:\n",
    "        texts (list of str): Liste de textes (documents/phrases).\n",
    "    Retour:\n",
    "        embeddings (np.array): Tableau numpy contenant l'embedding pour chaque texte.\n",
    "    '''\n",
    "    # Pour chaque texte, on crée un document tagué avec un identifiant unique.\n",
    "    tagged_docs = [TaggedDocument(words=txt.split(), tags=[i]) for i, txt in enumerate(texts)]\n",
    "    # Construire le vocabulaire du modèle à partir des documents tagués\n",
    "    doc2vec_model.build_vocab(tagged_docs)\n",
    "    # Entraîner le modèle sur les données\n",
    "    doc2vec_model.train(tagged_docs, total_examples=doc2vec_model.corpus_count, epochs=doc2vec_model.epochs)\n",
    "    # Inférer l'embedding de chaque document\n",
    "    embeddings = np.array([doc2vec_model.infer_vector(txt.split()) for txt in texts])\n",
    "    print(\"Shape des embeddings Doc2Vec :\", embeddings.shape)\n",
    "    return embeddings\"\"\";"
   ]
  },
  {
   "cell_type": "code",
   "execution_count": 53,
   "id": "3e67cd7f-7ffd-40a8-b7f8-a0adc322db5d",
   "metadata": {},
   "outputs": [
    {
     "name": "stdout",
     "output_type": "stream",
     "text": [
      "Shape des features BOW: (4997, 8124)\n"
     ]
    }
   ],
   "source": [
    "X_bow = BOW_embeddings(tf=False, ct=True, data=df['text_clean'])"
   ]
  },
  {
   "cell_type": "code",
   "execution_count": 37,
   "id": "bf99e515-14b5-4f91-a17e-18a5e07b08a0",
   "metadata": {},
   "outputs": [
    {
     "name": "stdout",
     "output_type": "stream",
     "text": [
      "Shape des embeddings USE : (4997, 512)\n"
     ]
    }
   ],
   "source": [
    "X_use = use_embeddings(df[\"text_clean\"].tolist())"
   ]
  },
  {
   "cell_type": "code",
   "execution_count": 39,
   "id": "1d918371-5276-4429-9532-1ba33f18bc19",
   "metadata": {},
   "outputs": [
    {
     "name": "stdout",
     "output_type": "stream",
     "text": [
      "Shape des embeddings BERT : (4997, 384)\n"
     ]
    }
   ],
   "source": [
    "X_bert = bert_embeddings(df[\"text_clean\"].tolist())"
   ]
  },
  {
   "cell_type": "code",
   "execution_count": null,
   "id": "605d9ad4-bb11-4f27-a4e3-791c1137d4f7",
   "metadata": {},
   "outputs": [],
   "source": [
    "# X_doc2vec = doc2vec_embeddings(df[\"Clean_Text\"].tolist())"
   ]
  },
  {
   "cell_type": "markdown",
   "id": "17f5cc50-3b30-41ca-8451-3b1aa2b712fa",
   "metadata": {},
   "source": [
    "# CLUSTERING ET EVALUATION\n",
    "## KMeans\n",
    "- **Nombre de cluster Optimal :**\n",
    "    - tf_ifd : K = 2 avec un score de silhouette de 0,003\n",
    "    - count_vec : K = 2 avec un score de silhouette de 0,937\n",
    "    - USE : K = 2 avec un score de silhouette de 0,937\n",
    "    - BERT : K = 2 avec un score de silhouette de 0,032\n",
    "    - Doc2Vec :\n",
    "- **Evaluations :**\n",
    "    - tf_ifd :\n",
    "    - count_vec :\n",
    "    - USE :\n",
    "    - BERT :\n",
    "    - Doc2Vec :\n",
    "\n",
    "## HSBSCAN\n",
    "\n",
    "- **Evaluations :**\n",
    "    - tf_ifd : 1 cluster\n",
    "    - count_vec : 3 cluster\n",
    "    - USE : 3 cluster\n",
    "    - BERT : 4 cluster\n",
    "    - Doc2Vec :\n",
    "- CONCLUSION : il faut pas oublier d'écrire une fontion d'évaluation et de visalisation avec plotly et t_sne"
   ]
  },
  {
   "cell_type": "code",
   "execution_count": 105,
   "id": "515b569f-0466-4d55-9a54-667cf0c270b3",
   "metadata": {},
   "outputs": [],
   "source": [
    "# Clustering avec KMeans + Elbow\n",
    "model = KMeans(random_state=404)\n",
    "visualizer = KElbowVisualizer(model, k=(2, 50), metric='silhouette', timings=False)"
   ]
  },
  {
   "cell_type": "code",
   "execution_count": 107,
   "id": "ae7a6782-889d-4035-9e70-919fa06a7146",
   "metadata": {},
   "outputs": [
    {
     "data": {
      "image/png": "[encoded data removed]",
      "text/plain": [
       "<Figure size 800x550 with 1 Axes>"
      ]
     },
     "metadata": {},
     "output_type": "display_data"
    },
    {
     "data": {
      "text/plain": [
       "<Axes: title={'center': 'Silhouette Score Elbow for KMeans Clustering'}, xlabel='k', ylabel='silhouette score'>"
      ]
     },
     "execution_count": 107,
     "metadata": {},
     "output_type": "execute_result"
    }
   ],
   "source": [
    "# appliquons sur nos données et visualisons\n",
    "visualizer.fit(X_bow) # ou autre en fonction de l'embedding\n",
    "visualizer.show()"
   ]
  },
  {
   "cell_type": "code",
   "execution_count": 59,
   "id": "17003432-55c4-4f27-9f21-c368dad22fa5",
   "metadata": {},
   "outputs": [
    {
     "name": "stderr",
     "output_type": "stream",
     "text": [
      "C:\\Users\\laelo\\anaconda3\\Lib\\site-packages\\sklearn\\utils\\deprecation.py:151: FutureWarning: 'force_all_finite' was renamed to 'ensure_all_finite' in 1.6 and will be removed in 1.8.\n",
      "  warnings.warn(\n",
      "C:\\Users\\laelo\\anaconda3\\Lib\\site-packages\\sklearn\\utils\\deprecation.py:151: FutureWarning: 'force_all_finite' was renamed to 'ensure_all_finite' in 1.6 and will be removed in 1.8.\n",
      "  warnings.warn(\n"
     ]
    },
    {
     "name": "stdout",
     "output_type": "stream",
     "text": [
      "HDBSCAN a trouvé 4 clusters.\n"
     ]
    }
   ],
   "source": [
    "# Clustering HDBSCAN\n",
    "clusterer = HDBSCAN(min_cluster_size=15, metric='euclidean')\n",
    "cluster_labels = clusterer.fit_predict(X_bert)\n",
    "\n",
    "# Afficher nombre de clusters trouvés (hors bruit)\n",
    "n_clusters = len(set(cluster_labels))\n",
    "print(f\"HDBSCAN a trouvé {n_clusters} clusters.\")"
   ]
  }
 ],
 "metadata": {
  "kernelspec": {
   "display_name": "Python [conda env:base] *",
   "language": "python",
   "name": "conda-base-py"
  },
  "language_info": {
   "codemirror_mode": {
    "name": "ipython",
    "version": 3
   },
   "file_extension": ".py",
   "mimetype": "text/x-python",
   "name": "python",
   "nbconvert_exporter": "python",
   "pygments_lexer": "ipython3",
   "version": "3.12.7"
  },
  "widgets": {
   "application/vnd.jupyter.widget-state+json": {
    "state": {},
    "version_major": 2,
    "version_minor": 0
   }
  }
 },
 "nbformat": 4,
 "nbformat_minor": 5
}
